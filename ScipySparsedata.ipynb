{
  "nbformat": 4,
  "nbformat_minor": 0,
  "metadata": {
    "colab": {
      "name": "ScipySparsedata.ipynb",
      "provenance": [],
      "collapsed_sections": [],
      "authorship_tag": "ABX9TyMpFuxJpKbn8dBuhmEHiLOA",
      "include_colab_link": true
    },
    "kernelspec": {
      "name": "python3",
      "display_name": "Python 3"
    },
    "language_info": {
      "name": "python"
    }
  },
  "cells": [
    {
      "cell_type": "markdown",
      "metadata": {
        "id": "view-in-github",
        "colab_type": "text"
      },
      "source": [
        "<a href=\"https://colab.research.google.com/github/vijaythapakdata/linearRegression/blob/main/ScipySparsedata.ipynb\" target=\"_parent\"><img src=\"https://colab.research.google.com/assets/colab-badge.svg\" alt=\"Open In Colab\"/></a>"
      ]
    },
    {
      "cell_type": "code",
      "metadata": {
        "colab": {
          "base_uri": "https://localhost:8080/"
        },
        "id": "Wg1jD3r8f5HP",
        "outputId": "d699ac96-0da5-41a9-d291-4a1ca810506b"
      },
      "source": [
        "import numpy as np\n",
        "from scipy.sparse import csr_matrix\n",
        "\n",
        "arr=np.array([0,0,0,0,0,1,0,0,1,0,0,0,2])\n",
        "print(csr_matrix(arr))"
      ],
      "execution_count": 2,
      "outputs": [
        {
          "output_type": "stream",
          "text": [
            "  (0, 5)\t1\n",
            "  (0, 8)\t1\n",
            "  (0, 12)\t2\n"
          ],
          "name": "stdout"
        }
      ]
    },
    {
      "cell_type": "markdown",
      "metadata": {
        "id": "CXK2nKXemkbD"
      },
      "source": [
        "Viewing stored data not zeros"
      ]
    },
    {
      "cell_type": "code",
      "metadata": {
        "colab": {
          "base_uri": "https://localhost:8080/"
        },
        "id": "LadBWc5Hmodi",
        "outputId": "180986ba-7ece-4776-d35a-89dcc1b648cd"
      },
      "source": [
        "\n",
        "arr=np.array([0,0,0,0,0,1,0,0,1,0,0,0,2])\n",
        "\n",
        "print(csr_matrix(arr).data)"
      ],
      "execution_count": 3,
      "outputs": [
        {
          "output_type": "stream",
          "text": [
            "[1 1 2]\n"
          ],
          "name": "stdout"
        }
      ]
    },
    {
      "cell_type": "markdown",
      "metadata": {
        "id": "QgZ-siadmzkG"
      },
      "source": [
        "counting nonzeros"
      ]
    },
    {
      "cell_type": "code",
      "metadata": {
        "colab": {
          "base_uri": "https://localhost:8080/"
        },
        "id": "kozckYZJm2go",
        "outputId": "9a109b9b-e832-4ae8-b0ea-fa8f3448834b"
      },
      "source": [
        "arr1=np.array([[0,0,1],[1,2,0],[0,0,0]])\n",
        "\n",
        "print(csr_matrix(arr1).count_nonzero())"
      ],
      "execution_count": 7,
      "outputs": [
        {
          "output_type": "stream",
          "text": [
            "3\n"
          ],
          "name": "stdout"
        }
      ]
    },
    {
      "cell_type": "markdown",
      "metadata": {
        "id": "2-z4lUAVnP37"
      },
      "source": [
        "Eliminate Zeros"
      ]
    },
    {
      "cell_type": "code",
      "metadata": {
        "colab": {
          "base_uri": "https://localhost:8080/"
        },
        "id": "rDAX08YXnVKQ",
        "outputId": "097a5e90-4aa2-4c14-b044-672ff6d832f6"
      },
      "source": [
        "arr1=np.array([[0,0,1],[1,2,0],[0,0,0]])\n",
        "v=csr_matrix(arr1)\n",
        "v.eliminate_zeros()\n",
        "print(v)"
      ],
      "execution_count": 8,
      "outputs": [
        {
          "output_type": "stream",
          "text": [
            "  (0, 2)\t1\n",
            "  (1, 0)\t1\n",
            "  (1, 1)\t2\n"
          ],
          "name": "stdout"
        }
      ]
    },
    {
      "cell_type": "markdown",
      "metadata": {
        "id": "d-WLzfzLnqN8"
      },
      "source": [
        "Eliminating duplicates entries"
      ]
    },
    {
      "cell_type": "code",
      "metadata": {
        "colab": {
          "base_uri": "https://localhost:8080/"
        },
        "id": "_5glJmfbnsya",
        "outputId": "9c9cb608-1cb1-416f-a61b-623b5202d2c3"
      },
      "source": [
        "arr1=np.array([[0,0,1],[1,2,0],[0,0,0]])\n",
        "mat=csr_matrix(arr1)\n",
        "mat.sum_duplicates()\n",
        "print(mat)"
      ],
      "execution_count": 9,
      "outputs": [
        {
          "output_type": "stream",
          "text": [
            "  (0, 2)\t1\n",
            "  (1, 0)\t1\n",
            "  (1, 1)\t2\n"
          ],
          "name": "stdout"
        }
      ]
    },
    {
      "cell_type": "markdown",
      "metadata": {
        "id": "t3_YJ_7Ln7u7"
      },
      "source": [
        "converting csr to csc\n"
      ]
    },
    {
      "cell_type": "code",
      "metadata": {
        "colab": {
          "base_uri": "https://localhost:8080/"
        },
        "id": "CNfh05I-n-Xv",
        "outputId": "10c059e4-5e2b-4729-bff8-f8a4e9f57e14"
      },
      "source": [
        "arr1=np.array([[0,0,1],[1,2,0],[0,0,0]])\n",
        "print(csr_matrix(arr1).tocsc())"
      ],
      "execution_count": 10,
      "outputs": [
        {
          "output_type": "stream",
          "text": [
            "  (1, 0)\t1\n",
            "  (1, 1)\t2\n",
            "  (0, 2)\t1\n"
          ],
          "name": "stdout"
        }
      ]
    }
  ]
}