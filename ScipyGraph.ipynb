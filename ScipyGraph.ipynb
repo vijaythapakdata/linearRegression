{
  "nbformat": 4,
  "nbformat_minor": 0,
  "metadata": {
    "colab": {
      "name": "ScipyGraph.ipynb",
      "provenance": [],
      "collapsed_sections": [],
      "authorship_tag": "ABX9TyPDorchJjf4I9H3vqhsuEnS",
      "include_colab_link": true
    },
    "kernelspec": {
      "name": "python3",
      "display_name": "Python 3"
    },
    "language_info": {
      "name": "python"
    }
  },
  "cells": [
    {
      "cell_type": "markdown",
      "metadata": {
        "id": "view-in-github",
        "colab_type": "text"
      },
      "source": [
        "<a href=\"https://colab.research.google.com/github/vijaythapakdata/linearRegression/blob/main/ScipyGraph.ipynb\" target=\"_parent\"><img src=\"https://colab.research.google.com/assets/colab-badge.svg\" alt=\"Open In Colab\"/></a>"
      ]
    },
    {
      "cell_type": "code",
      "metadata": {
        "colab": {
          "base_uri": "https://localhost:8080/"
        },
        "id": "lZ8WuRC7offo",
        "outputId": "f6d8ea51-59b3-4fd3-f6fd-711b90f18597"
      },
      "source": [
        "import numpy as np\n",
        "from scipy.sparse.csgraph import connected_components\n",
        "from scipy.sparse import csr_matrix\n",
        "arr = np.array([\n",
        "  [0, 1, 2],\n",
        "  [1, 0, 0],\n",
        "  [2, 0, 0]\n",
        "])\n",
        "\n",
        "newarr=csr_matrix(arr)\n",
        "print(connected_components(newarr))"
      ],
      "execution_count": 1,
      "outputs": [
        {
          "output_type": "stream",
          "text": [
            "(1, array([0, 0, 0], dtype=int32))\n"
          ],
          "name": "stdout"
        }
      ]
    },
    {
      "cell_type": "markdown",
      "metadata": {
        "id": "PPTnfx0vo_JE"
      },
      "source": [
        "Dijkstra Graph\n"
      ]
    },
    {
      "cell_type": "code",
      "metadata": {
        "colab": {
          "base_uri": "https://localhost:8080/"
        },
        "id": "j4oQw55PpDWQ",
        "outputId": "743b5186-d138-49db-cacf-14339138fad3"
      },
      "source": [
        "from scipy.sparse.csgraph import dijkstra\n",
        "arr = np.array([\n",
        "  [0, 1, 2],\n",
        "  [1, 0, 0],\n",
        "  [2, 0, 0]\n",
        "])\n",
        "newarr=csr_matrix(arr)\n",
        "print(dijkstra(newarr,return_predecessors=True,indices=0))"
      ],
      "execution_count": 2,
      "outputs": [
        {
          "output_type": "stream",
          "text": [
            "(array([0., 1., 2.]), array([-9999,     0,     0], dtype=int32))\n"
          ],
          "name": "stdout"
        }
      ]
    },
    {
      "cell_type": "markdown",
      "metadata": {
        "id": "oPrOa7i3prh2"
      },
      "source": [
        "Floyd warshall"
      ]
    },
    {
      "cell_type": "code",
      "metadata": {
        "colab": {
          "base_uri": "https://localhost:8080/"
        },
        "id": "irkhttGIpugI",
        "outputId": "6fe7f40c-8b89-480f-94db-acce9f0fb0c1"
      },
      "source": [
        "from scipy.sparse.csgraph import floyd_warshall \n",
        "arr= np.array([\n",
        "  [0, 1, 2],\n",
        "  [1, 0, 0],\n",
        "  [2, 0, 0]\n",
        "])\n",
        "newarr=csr_matrix(arr)\n",
        "print(floyd_warshall(newarr,return_predecessors=True))"
      ],
      "execution_count": 7,
      "outputs": [
        {
          "output_type": "stream",
          "text": [
            "(array([[0., 1., 2.],\n",
            "       [1., 0., 3.],\n",
            "       [2., 3., 0.]]), array([[-9999,     0,     0],\n",
            "       [    1, -9999,     0],\n",
            "       [    2,     0, -9999]], dtype=int32))\n"
          ],
          "name": "stdout"
        }
      ]
    },
    {
      "cell_type": "markdown",
      "metadata": {
        "id": "HeETdi4-qUPG"
      },
      "source": [
        "Bellman ford"
      ]
    },
    {
      "cell_type": "code",
      "metadata": {
        "colab": {
          "base_uri": "https://localhost:8080/"
        },
        "id": "upecqK8PqZpf",
        "outputId": "1f2dc96f-670a-4447-bad8-8755dda469ad"
      },
      "source": [
        "from scipy.sparse.csgraph import bellman_ford\n",
        "arr = np.array([\n",
        "  [0, -1, 2],\n",
        "  [1, 0, 0],\n",
        "  [2, 0, 0]\n",
        "])\n",
        "newarr=csr_matrix(arr)\n",
        "print(bellman_ford(newarr,return_predecessors=True,indices=0))"
      ],
      "execution_count": 8,
      "outputs": [
        {
          "output_type": "stream",
          "text": [
            "(array([ 0., -1.,  2.]), array([-9999,     0,     0], dtype=int32))\n"
          ],
          "name": "stdout"
        }
      ]
    },
    {
      "cell_type": "markdown",
      "metadata": {
        "id": "ZzobQO4Oqske"
      },
      "source": [
        "Depth first order"
      ]
    },
    {
      "cell_type": "code",
      "metadata": {
        "colab": {
          "base_uri": "https://localhost:8080/"
        },
        "id": "ydofJhrZq0rb",
        "outputId": "02b07926-3f72-4dc5-c0fd-5dbe165e11df"
      },
      "source": [
        "from scipy.sparse.csgraph import depth_first_order\n",
        "arr = np.array([\n",
        "  [0, 1, 0, 1],\n",
        "  [1, 1, 1, 1],\n",
        "  [2, 1, 1, 0],\n",
        "  [0, 1, 0, 1]\n",
        "])\n",
        "newarr=csr_matrix(arr)\n",
        "print(depth_first_order(newarr,0))"
      ],
      "execution_count": 10,
      "outputs": [
        {
          "output_type": "stream",
          "text": [
            "(array([0, 1, 2, 3], dtype=int32), array([-9999,     0,     1,     1], dtype=int32))\n"
          ],
          "name": "stdout"
        }
      ]
    },
    {
      "cell_type": "markdown",
      "metadata": {
        "id": "arq29hLKrEUC"
      },
      "source": [
        "Breadth First order"
      ]
    },
    {
      "cell_type": "code",
      "metadata": {
        "colab": {
          "base_uri": "https://localhost:8080/"
        },
        "id": "yCl06fOurJ28",
        "outputId": "5137424c-d7ab-4454-d90f-a91bf5edc100"
      },
      "source": [
        "from scipy.sparse.csgraph import breadth_first_order\n",
        "arr = np.array([\n",
        "  [0, 1, 0, 1],\n",
        "  [1, 1, 1, 1],\n",
        "  [2, 1, 1, 0],\n",
        "  [0, 1, 0, 1]\n",
        "])\n",
        "newarr=csr_matrix(arr)\n",
        "print(breadth_first_order(newarr,0))"
      ],
      "execution_count": 12,
      "outputs": [
        {
          "output_type": "stream",
          "text": [
            "(array([0, 1, 3, 2], dtype=int32), array([-9999,     0,     1,     0], dtype=int32))\n"
          ],
          "name": "stdout"
        }
      ]
    }
  ]
}