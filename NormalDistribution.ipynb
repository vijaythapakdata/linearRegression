{
  "nbformat": 4,
  "nbformat_minor": 0,
  "metadata": {
    "colab": {
      "name": "NormalDistribution.ipynb",
      "provenance": [],
      "collapsed_sections": [],
      "authorship_tag": "ABX9TyNfwYu6viljR1QqdRkYipAd",
      "include_colab_link": true
    },
    "kernelspec": {
      "name": "python3",
      "display_name": "Python 3"
    },
    "language_info": {
      "name": "python"
    }
  },
  "cells": [
    {
      "cell_type": "markdown",
      "metadata": {
        "id": "view-in-github",
        "colab_type": "text"
      },
      "source": [
        "<a href=\"https://colab.research.google.com/github/vijaythapakdata/linearRegression/blob/main/NormalDistribution.ipynb\" target=\"_parent\"><img src=\"https://colab.research.google.com/assets/colab-badge.svg\" alt=\"Open In Colab\"/></a>"
      ]
    },
    {
      "cell_type": "code",
      "metadata": {
        "id": "a37vAMN-S3iw"
      },
      "source": [
        "#import dependencies\n",
        "import matplotlib.pyplot as plt\n",
        "import seaborn as sns\n",
        "import numpy as np\n",
        "from numpy import random\n",
        "%matplotlib inline"
      ],
      "execution_count": 1,
      "outputs": []
    },
    {
      "cell_type": "code",
      "metadata": {
        "colab": {
          "base_uri": "https://localhost:8080/"
        },
        "id": "9Ue8Og9RV6Vp",
        "outputId": "b34ff620-37f9-4f82-a4ea-da792fc890bb"
      },
      "source": [
        "#generate randaom normal distribution with 2,3 size array\n",
        "x=random.normal(size=(2,3))\n",
        "print(x)"
      ],
      "execution_count": 3,
      "outputs": [
        {
          "output_type": "stream",
          "text": [
            "[[ 0.65879329 -0.89024437  1.17593299]\n",
            " [ 0.48674981 -0.44056728  0.17775267]]\n"
          ],
          "name": "stdout"
        }
      ]
    },
    {
      "cell_type": "code",
      "metadata": {
        "colab": {
          "base_uri": "https://localhost:8080/"
        },
        "id": "BZbmsZG7WP85",
        "outputId": "7d366811-8ac6-4ff6-cd93-224d3a224728"
      },
      "source": [
        "#generate random noramldistribution of size 2*3 and mean 1 of standard deviation is 2\n",
        "x1=random.normal(loc=1,scale=2,size=(2,3))\n",
        "print(x1)"
      ],
      "execution_count": 4,
      "outputs": [
        {
          "output_type": "stream",
          "text": [
            "[[ 1.66111192  0.7801546   0.9660413 ]\n",
            " [ 3.21381379  4.33292174 -4.38311855]]\n"
          ],
          "name": "stdout"
        }
      ]
    },
    {
      "cell_type": "code",
      "metadata": {
        "colab": {
          "base_uri": "https://localhost:8080/",
          "height": 349
        },
        "id": "US3ddoacWjDz",
        "outputId": "6ee1886e-b650-44d8-e10a-3db749ac175e"
      },
      "source": [
        "#visualization of normal distribution\n",
        "sns.distplot(random.normal(size=1000),hist=False,kde=True)\n",
        "plt.xlabel(\"x-axis\")\n",
        "plt.ylabel(\"y-axis\")\n",
        "plt.title(\"Normal Distribution\")\n",
        "plt.show()"
      ],
      "execution_count": 5,
      "outputs": [
        {
          "output_type": "stream",
          "text": [
            "/usr/local/lib/python3.7/dist-packages/seaborn/distributions.py:2557: FutureWarning: `distplot` is a deprecated function and will be removed in a future version. Please adapt your code to use either `displot` (a figure-level function with similar flexibility) or `kdeplot` (an axes-level function for kernel density plots).\n",
            "  warnings.warn(msg, FutureWarning)\n"
          ],
          "name": "stderr"
        },
        {
          "output_type": "display_data",
          "data": {
            "image/png": "[encoded data removed]",
            "text/plain": [
              "<Figure size 432x288 with 1 Axes>"
            ]
          },
          "metadata": {
            "needs_background": "light"
          }
        }
      ]
    },
    {
      "cell_type": "code",
      "metadata": {
        "colab": {
          "base_uri": "https://localhost:8080/",
          "height": 369
        },
        "id": "x0NCxzxcXOr5",
        "outputId": "3c87ab87-b95b-4c11-a693-ed4c1db7e1ca"
      },
      "source": [
        "#visualization with mean and standard deviation\n",
        "x2=random.normal(loc=50,scale=100,size=(10000))\n",
        "sns.displot(x2)\n",
        "plt.show()"
      ],
      "execution_count": 8,
      "outputs": [
        {
          "output_type": "display_data",
          "data": {
            "image/png": "[encoded data removed]",
            "text/plain": [
              "<Figure size 360x360 with 1 Axes>"
            ]
          },
          "metadata": {
            "needs_background": "light"
          }
        }
      ]
    },
    {
      "cell_type": "code",
      "metadata": {
        "id": "p74dKpHgW9Lr"
      },
      "source": [
        "#the graph of normal distribution is always formed in bell curve hence we can also say it bell curve distribution"
      ],
      "execution_count": null,
      "outputs": []
    }
  ]
}